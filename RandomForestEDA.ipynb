{
 "cells": [
  {
   "cell_type": "code",
   "execution_count": 10,
   "metadata": {},
   "outputs": [],
   "source": [
    "# some useful mysklearn package import statements and reloads\n",
    "import importlib\n",
    "\n",
    "import mysklearn.myutils\n",
    "importlib.reload(mysklearn.myutils)\n",
    "import mysklearn.myutils as myutils\n",
    "\n",
    "# uncomment once you paste your mypytable.py into mysklearn package\n",
    "import mysklearn.mypytable\n",
    "importlib.reload(mysklearn.mypytable)\n",
    "from mysklearn.mypytable import MyPyTable \n",
    "\n",
    "import mysklearn.myclassifiers\n",
    "importlib.reload(mysklearn.myclassifiers)\n",
    "from mysklearn.myclassifiers import MyNaiveBayesClassifier, MyDecisionTreeClassifier, MyRandomForestClassifier\n",
    "\n",
    "import mysklearn.myevaluation\n",
    "importlib.reload(mysklearn.myevaluation)\n",
    "import mysklearn.myevaluation as myevaluation\n",
    "\n",
    "mypy = MyPyTable().load_from_file(\"input_data/seattleWeather_2008-2017.csv\")\n",
    "data, classes = myutils.separate(mypy.data, mypy.column_names, \"RAINTOMORROW\")"
   ]
  },
  {
   "cell_type": "code",
   "execution_count": 11,
   "metadata": {},
   "outputs": [
    {
     "name": "stdout",
     "output_type": "stream",
     "text": [
      "0.6431192660550459\n"
     ]
    }
   ],
   "source": [
    "results = []\n",
    "actual = []\n",
    "for ii in range(5):\n",
    "    X_tr, X_t, y_tr, y_t = myevaluation.train_test_split(data,classes)\n",
    "\n",
    "    test1 = MyRandomForestClassifier(7,20,2)\n",
    "    test1.fit(X_tr, y_tr)\n",
    "    results.append(test1.predict(X_t))\n",
    "    actual.append(y_t)\n",
    "    \n",
    "res = myutils.nestedListToList(results)\n",
    "act = myutils.nestedListToList(actual)\n",
    "\n",
    "\n",
    "counter = 0\n",
    "for jj, element in enumerate(res):\n",
    "    if element == act[jj]:\n",
    "        counter +=1\n",
    "        \n",
    "print(counter/len(res))"
   ]
  },
  {
   "cell_type": "code",
   "execution_count": 12,
   "metadata": {},
   "outputs": [
    {
     "name": "stdout",
     "output_type": "stream",
     "text": [
      "0.6179816513761468\n"
     ]
    }
   ],
   "source": [
    "results = []\n",
    "actual = []\n",
    "for ii in range(5):\n",
    "    X_tr, X_t, y_tr, y_t = myevaluation.train_test_split(data,classes)\n",
    "\n",
    "    test1 = MyRandomForestClassifier(2,30,2)\n",
    "    test1.fit(X_tr, y_tr)\n",
    "    results.append(test1.predict(X_t))\n",
    "    actual.append(y_t)\n",
    "    \n",
    "res = myutils.nestedListToList(results)\n",
    "act = myutils.nestedListToList(actual)\n",
    "\n",
    "\n",
    "counter = 0\n",
    "for jj, element in enumerate(res):\n",
    "    if element == act[jj]:\n",
    "        counter +=1\n",
    "        \n",
    "print(counter/len(res))"
   ]
  },
  {
   "cell_type": "code",
   "execution_count": 13,
   "metadata": {},
   "outputs": [
    {
     "name": "stdout",
     "output_type": "stream",
     "text": [
      "0.6440366972477064\n"
     ]
    }
   ],
   "source": [
    "results = []\n",
    "actual = []\n",
    "for ii in range(5):\n",
    "    X_tr, X_t, y_tr, y_t = myevaluation.train_test_split(data,classes)\n",
    "\n",
    "    test1 = MyRandomForestClassifier(10,15,3)\n",
    "    test1.fit(X_tr, y_tr)\n",
    "    results.append(test1.predict(X_t))\n",
    "    actual.append(y_t)\n",
    "    \n",
    "res = myutils.nestedListToList(results)\n",
    "act = myutils.nestedListToList(actual)\n",
    "\n",
    "\n",
    "counter = 0\n",
    "for jj, element in enumerate(res):\n",
    "    if element == act[jj]:\n",
    "        counter +=1\n",
    "        \n",
    "print(counter/len(res))"
   ]
  },
  {
   "cell_type": "code",
   "execution_count": 5,
   "metadata": {},
   "outputs": [],
   "source": [
    "mypy = MyPyTable().load_from_file(\"input_data/SydneyparsedData.csv\")\n",
    "data, classes = myutils.separate(mypy.data, mypy.column_names, \"RainTomorrow\")"
   ]
  },
  {
   "cell_type": "code",
   "execution_count": 6,
   "metadata": {},
   "outputs": [
    {
     "name": "stdout",
     "output_type": "stream",
     "text": [
      "0.613978494623656\n"
     ]
    }
   ],
   "source": [
    "results = []\n",
    "actual = []\n",
    "for ii in range(5):\n",
    "    X_tr, X_t, y_tr, y_t = myevaluation.train_test_split(data,classes)\n",
    "\n",
    "    test1 = MyRandomForestClassifier(7,20,2)\n",
    "    test1.fit(X_tr, y_tr)\n",
    "    results.append(test1.predict(X_t))\n",
    "    actual.append(y_t)\n",
    "    \n",
    "res = myutils.nestedListToList(results)\n",
    "act = myutils.nestedListToList(actual)\n",
    "\n",
    "\n",
    "counter = 0\n",
    "for jj, element in enumerate(res):\n",
    "    if element == act[jj]:\n",
    "        counter +=1\n",
    "        \n",
    "print(counter/len(res))"
   ]
  },
  {
   "cell_type": "code",
   "execution_count": 7,
   "metadata": {},
   "outputs": [
    {
     "name": "stdout",
     "output_type": "stream",
     "text": [
      "0.5767025089605735\n"
     ]
    }
   ],
   "source": [
    "results = []\n",
    "actual = []\n",
    "for ii in range(5):\n",
    "    X_tr, X_t, y_tr, y_t = myevaluation.train_test_split(data,classes)\n",
    "\n",
    "    test1 = MyRandomForestClassifier(2,30,7)\n",
    "    test1.fit(X_tr, y_tr)\n",
    "    results.append(test1.predict(X_t))\n",
    "    actual.append(y_t)\n",
    "    \n",
    "res = myutils.nestedListToList(results)\n",
    "act = myutils.nestedListToList(actual)\n",
    "\n",
    "\n",
    "counter = 0\n",
    "for jj, element in enumerate(res):\n",
    "    if element == act[jj]:\n",
    "        counter +=1\n",
    "        \n",
    "print(counter/len(res))"
   ]
  },
  {
   "cell_type": "code",
   "execution_count": 8,
   "metadata": {},
   "outputs": [
    {
     "name": "stdout",
     "output_type": "stream",
     "text": [
      "0.5992831541218638\n"
     ]
    }
   ],
   "source": [
    "results = []\n",
    "actual = []\n",
    "for ii in range(5):\n",
    "    X_tr, X_t, y_tr, y_t = myevaluation.train_test_split(data,classes)\n",
    "\n",
    "    test1 = MyRandomForestClassifier(10,15,3)\n",
    "    test1.fit(X_tr, y_tr)\n",
    "    results.append(test1.predict(X_t))\n",
    "    actual.append(y_t)\n",
    "    \n",
    "res = myutils.nestedListToList(results)\n",
    "act = myutils.nestedListToList(actual)\n",
    "\n",
    "\n",
    "counter = 0\n",
    "for jj, element in enumerate(res):\n",
    "    if element == act[jj]:\n",
    "        counter +=1\n",
    "        \n",
    "print(counter/len(res))"
   ]
  },
  {
   "cell_type": "code",
   "execution_count": null,
   "metadata": {},
   "outputs": [],
   "source": []
  }
 ],
 "metadata": {
  "kernelspec": {
   "display_name": "Python 3",
   "language": "python",
   "name": "python3"
  },
  "language_info": {
   "codemirror_mode": {
    "name": "ipython",
    "version": 3
   },
   "file_extension": ".py",
   "mimetype": "text/x-python",
   "name": "python",
   "nbconvert_exporter": "python",
   "pygments_lexer": "ipython3",
   "version": "3.8.5"
  }
 },
 "nbformat": 4,
 "nbformat_minor": 4
}
